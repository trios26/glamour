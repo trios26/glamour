{
 "cells": [
  {
   "cell_type": "code",
   "execution_count": 10,
   "metadata": {},
   "outputs": [
    {
     "name": "stdout",
     "output_type": "stream",
     "text": [
      "File saved exactly in GLAMOUR multitask format with blank first column and 'ID' second column.\n"
     ]
    }
   ],
   "source": [
    "import pandas as pd\n",
    "import numpy as np\n",
    "\n",
    "# Load glycan–lectin data\n",
    "df = pd.read_csv(\"Fraction_Bound.txt\", sep=\"\\t\")\n",
    "\n",
    "# Replace 0s in Fraction_Bound with NaN (if 0 means missing)\n",
    "df[\"Fraction_Bound\"] = df[\"Fraction_Bound\"].replace(0, np.nan)\n",
    "\n",
    "# Create task label from Lectin and Concentration\n",
    "df[\"Task\"] = df[\"Lectin\"].astype(str) + \"_Conc\" + df[\"Concentration\"].astype(str)\n",
    "\n",
    "# Pivot to wide format\n",
    "df_wide = df.pivot_table(\n",
    "    index=\"Glycan\",\n",
    "    columns=\"Task\",\n",
    "    values=\"Fraction_Bound\",\n",
    ")\n",
    "\n",
    "# Reset index (Glycan becomes a column)\n",
    "df_wide.reset_index(inplace=True)\n",
    "\n",
    "# Rename Glycan column to ID\n",
    "df_wide.rename(columns={\"Glycan\": \"ID\"}, inplace=True)\n",
    "\n",
    "# Add the unnamed first column: just integers 1...N\n",
    "df_wide.insert(0, \"\", range(1, len(df_wide) + 1))\n",
    "\n",
    "# Save final CSV in GLAMOUR format\n",
    "df_wide.to_csv(\"glycan_binding_glamour_format.txt\", index=False, na_rep=\"\")\n",
    "\n",
    "print(\"File saved exactly in GLAMOUR multitask format with blank first column and 'ID' second column.\")\n",
    "\n",
    "\n"
   ]
  },
  {
   "cell_type": "code",
   "execution_count": null,
   "metadata": {},
   "outputs": [],
   "source": []
  }
 ],
 "metadata": {
  "kernelspec": {
   "display_name": "Python (ligpargen)",
   "language": "python",
   "name": "ligpargen"
  },
  "language_info": {
   "codemirror_mode": {
    "name": "ipython",
    "version": 3
   },
   "file_extension": ".py",
   "mimetype": "text/x-python",
   "name": "python",
   "nbconvert_exporter": "python",
   "pygments_lexer": "ipython3",
   "version": "3.8.20"
  }
 },
 "nbformat": 4,
 "nbformat_minor": 4
}
