{
 "cells": [
  {
   "cell_type": "code",
   "execution_count": 1,
   "metadata": {},
   "outputs": [],
   "source": [
    "import os\n",
    "os.environ['CUDA_VISIBLE_DEVICES'] = \"0\"\n",
    "\n",
    "import random\n",
    "from rdkit import Chem\n",
    "from rdkit.Chem import Draw\n",
    "from rdkit.Chem.Draw import IPythonConsole\n",
    "\n",
    "from utils.load_networkx import networkx_feat\n",
    "from utils.macro_dataset import MacroDataset\n",
    "from utils import macro_unsupervised as unsup\n",
    "from utils.macro_supervised import MacroSupervised\n",
    "from utils.macro_attribution import Attribution\n",
    "from utils import plot"
   ]
  },
  {
   "cell_type": "markdown",
   "metadata": {},
   "source": [
    "**Filepaths**"
   ]
  },
  {
   "cell_type": "markdown",
   "metadata": {},
   "source": [
    "MON_SMILES : .csv or .txt file of macromolecule monomers\n",
    "<br>\n",
    "BOND_SMILES : .csv or .txt file of macromolecule bonds\n",
    "\n",
    "TXT_DATA_PATH : For dataset, to be used for training\n",
    "<br>\n",
    "DF_PATH : For dataset, to be used for graph labels during training\n",
    "<br>\n",
    "MODEL_PATH : For models, to be used when training to save the model, optimizer, and configuration file\n",
    "<br>\n",
    "FIG_PATH : For plots, to be used when saving ROC-AUC or parity plot figures"
   ]
  },
  {
   "cell_type": "code",
   "execution_count": 2,
   "metadata": {},
   "outputs": [],
   "source": [
    "MON_SMILES = './tables/SMILES_glycans_monomer.txt'\n",
    "BOND_SMILES = './tables/SMILES_glycans_bond.txt'\n",
    "\n",
    "TXT_DATA_PATH = './dataset/graphs/'\n",
    "DF_PATH = './tables/glycan_binding.txt'\n",
    "MODEL_PATH = './'\n",
    "FIG_PATH = './'"
   ]
  },
  {
   "cell_type": "markdown",
   "metadata": {},
   "source": [
    "**Variables**"
   ]
  },
  {
   "cell_type": "markdown",
   "metadata": {},
   "source": [
    "FEAT : Type of features for macromolecule monomers and bonds -- fingerprints ('fp') or one-hot encodings ('onehot') (default = 'fp')\n",
    "<br>\n",
    "FP_RADIUS_MON : Radius of topological exploration for monomer fingerprint (default = 3)\n",
    "<br>\n",
    "FP_BITS_MON : Size of fingerprint bit-vector for monomer (default = 128)\n",
    "<br>\n",
    "FP_RADIUS_BOND : Radius of topological exploration for bond fingerprint (default = 3)\n",
    "<br>\n",
    "FP_BITS_BOND : Size of fingerprint bit-vector for bond (default = 16)\n",
    "\n",
    "SEED : Random seed for shuffling dataset (default = 108)\n",
    "<br>\n",
    "TASK : Learning task (classification, regression) (default = 'classification')\n",
    "<br>\n",
    "MODEL : Model architecture for supervised learning (Weave, MPNN, Attentive FP, GCN, GAT) (default = 'Weave')\n",
    "<br>\n",
    "LABELNAME : Name of label to classify (default = 'Immunogenic')\n",
    "<br>\n",
    "SPLIT : Proportion of the dataset to use for training, validation and test (default = '0.8,0.1,0.1')\n",
    "<br>\n",
    "NORM: Normalization method for regression labels -- quantile transform ('qt') or standard scaler ('ss') (default = 'qt')\n",
    "\n",
    "NUM_EPOCHS: Maximum number of epochs allowed for training (default = 1000)\n",
    "<br>\n",
    "NUM_WORKERS: Number of processes for data loading (default: 1)\n",
    "\n",
    "SAVE_MODEL: Whether to save full model file. Model state dict will be saved automatically (default = False)\n",
    "<br>\n",
    "SAVE_OPT: Whether to save optimizer files (default = False)\n",
    "<br>\n",
    "SAVE_CONFIG: Whether to save configuration file (default = False)\n",
    "\n",
    "PLOT_TYPE: Dataset to plot ('val' for validation or 'test' for test)\n",
    "\n",
    "CUSTOM_PARAMS: Dictionary of hyperparameters for model"
   ]
  },
  {
   "cell_type": "code",
   "execution_count": 3,
   "metadata": {},
   "outputs": [],
   "source": [
    "FEAT = 'fp'\n",
    "FP_RADIUS_MON = 3\n",
    "FP_BITS_MON = 128\n",
    "FP_RADIUS_BOND = 3\n",
    "FP_BITS_BOND = 16\n",
    "\n",
    "SEED = 108\n",
    "TASK = 'regression'\n",
    "MODEL = 'GCN'\n",
    "LABELNAME = '22_Conc180.0'\n",
    "SPLIT = '0.6,0.2,0.2'\n",
    "NORM = 'ss'\n",
    "\n",
    "NUM_EPOCHS = 10\n",
    "NUM_WORKERS = 1\n",
    "\n",
    "SAVE_MODEL = False\n",
    "SAVE_OPT = False\n",
    "SAVE_CONFIG = False\n",
    "\n",
    "PLOT_TYPE = 'val'\n",
    "\n",
    "CUSTOM_PARAMS = {}"
   ]
  },
  {
   "cell_type": "markdown",
   "metadata": {},
   "source": [
    "**Load featurized NetworkX graphs**"
   ]
  },
  {
   "cell_type": "code",
   "execution_count": 4,
   "metadata": {},
   "outputs": [],
   "source": [
    "NX_GRAPHS = networkx_feat(\n",
    "    TXT_DATA_PATH = TXT_DATA_PATH, \n",
    "    MON_SMILES = MON_SMILES, \n",
    "    BOND_SMILES = BOND_SMILES, \n",
    "    FEAT = FEAT, \n",
    "    FP_RADIUS_MON = FP_RADIUS_MON, \n",
    "    FP_RADIUS_BOND = FP_RADIUS_BOND, \n",
    "    FP_BITS_MON = FP_BITS_MON, \n",
    "    FP_BITS_BOND = FP_BITS_BOND\n",
    ")"
   ]
  },
  {
   "cell_type": "code",
   "execution_count": 5,
   "metadata": {},
   "outputs": [
    {
     "name": "stderr",
     "output_type": "stream",
     "text": [
      "findfont: Font family ['sans-serif'] not found. Falling back to DejaVu Sans.\n"
     ]
    },
    {
     "name": "stdout",
     "output_type": "stream",
     "text": [
      "{0: 'GalNAc'}\n"
     ]
    },
    {
     "data": {
      "image/png": "[encoded data removed]",
      "text/plain": [
       "<Figure size 432x288 with 1 Axes>"
      ]
     },
     "metadata": {},
     "output_type": "display_data"
    }
   ],
   "source": [
    "plot.graph(NX_GRAPHS['CFG-10-Sp15'])"
   ]
  },
  {
   "cell_type": "code",
   "execution_count": 6,
   "metadata": {},
   "outputs": [
    {
     "name": "stdout",
     "output_type": "stream",
     "text": [
      "{0: 'Fuc', 1: 'Gal', 2: 'GlcNAc', 3: 'Man', 4: 'Fuc', 5: 'Gal', 6: 'GlcNAc', 7: 'Fuc', 8: 'Gal', 9: 'GlcNAc', 10: 'Man', 11: 'Man', 12: 'GlcNAc', 13: 'GlcNAc'}\n"
     ]
    },
    {
     "data": {
      "image/png": "[encoded data removed]",
      "text/plain": [
       "<Figure size 432x288 with 1 Axes>"
      ]
     },
     "metadata": {},
     "output_type": "display_data"
    }
   ],
   "source": [
    "plot.graph(NX_GRAPHS['CFG-471-Sp12'])"
   ]
  },
  {
   "cell_type": "markdown",
   "metadata": {},
   "source": [
    "#### Alignment of 2 arbitrary graphs - Similarity Computation"
   ]
  },
  {
   "cell_type": "code",
   "execution_count": 7,
   "metadata": {},
   "outputs": [],
   "source": [
    "#unsup.edit_distance(NX_GRAPHS['GBID10271'], NX_GRAPHS['GBID10330'], node_attr = 'h', edge_attr = 'e', upper_bound = 100)"
   ]
  },
  {
   "cell_type": "markdown",
   "metadata": {},
   "source": [
    "#### Unsupervised Learning"
   ]
  },
  {
   "cell_type": "code",
   "execution_count": 8,
   "metadata": {},
   "outputs": [],
   "source": [
    "# sim_matrix = unsup.similarity_matrix(dict_graphs = NX_GRAPHS)"
   ]
  },
  {
   "cell_type": "code",
   "execution_count": 9,
   "metadata": {},
   "outputs": [],
   "source": [
    "# embeddings = unsup.dimensionality_reduction(\n",
    "#     matrix = sim_matrix, \n",
    "#     method = 'umap', \n",
    "#     n_neighbors=3)"
   ]
  },
  {
   "cell_type": "code",
   "execution_count": 10,
   "metadata": {
    "scrolled": true
   },
   "outputs": [],
   "source": [
    "# unsup.plot_embeddings(\n",
    "#     embeddings = embeddings, \n",
    "#     NX_GRAPHS = NX_GRAPHS, \n",
    "#     DF_PATH = DF_PATH, \n",
    "#     method = 'UMAP')"
   ]
  },
  {
   "cell_type": "markdown",
   "metadata": {},
   "source": [
    "**Load DGL dataset with labels and masks**"
   ]
  },
  {
   "cell_type": "code",
   "execution_count": 11,
   "metadata": {},
   "outputs": [],
   "source": [
    "dgl_dict = MacroDataset(\n",
    "    DF_PATH = DF_PATH, \n",
    "    SEED = SEED, \n",
    "    TASK = TASK, \n",
    "    LABELNAME = LABELNAME, \n",
    "    MODEL = MODEL, \n",
    "    NX_GRAPHS = NX_GRAPHS, \n",
    "    NORM = NORM)"
   ]
  },
  {
   "cell_type": "markdown",
   "metadata": {},
   "source": [
    "#### Supervised learning \n",
    "Training model and obtaining validation and test metrics"
   ]
  },
  {
   "cell_type": "code",
   "execution_count": 12,
   "metadata": {},
   "outputs": [
    {
     "name": "stdout",
     "output_type": "stream",
     "text": [
      "Directory ./ already exists.\n"
     ]
    }
   ],
   "source": [
    "random.seed(SEED)\n",
    "\n",
    "macro_supervised = MacroSupervised(\n",
    "    MacroDataset = dgl_dict, \n",
    "    MON_SMILES = MON_SMILES, \n",
    "    BOND_SMILES = BOND_SMILES, \n",
    "    FEAT = FEAT, \n",
    "    FP_BITS_MON = FP_BITS_MON, \n",
    "    FP_BITS_BOND = FP_BITS_BOND, \n",
    "    SEED = SEED, \n",
    "    MODEL = MODEL, \n",
    "    SPLIT = SPLIT, \n",
    "    NUM_EPOCHS = NUM_EPOCHS, \n",
    "    NUM_WORKERS = NUM_WORKERS, \n",
    "    CUSTOM_PARAMS = CUSTOM_PARAMS, \n",
    "    MODEL_PATH = MODEL_PATH, \n",
    "    SAVE_MODEL = SAVE_MODEL, \n",
    "    SAVE_OPT = SAVE_OPT, \n",
    "    SAVE_CONFIG = SAVE_CONFIG)"
   ]
  },
  {
   "cell_type": "code",
   "execution_count": 13,
   "metadata": {},
   "outputs": [
    {
     "name": "stdout",
     "output_type": "stream",
     "text": [
      "epoch 1/10, batch 1/1, loss 1.1576\n",
      "epoch 1/10, validation rmse 2.7913, best validation rmse 2.7913, validation L1loss 0.8938, validation r2 0.2648, validation mae 1.8731, validation spearmanr -0.3967, validation kendalltau -0.2843\n",
      "epoch 2/10, batch 1/1, loss 1.2558\n",
      "epoch 2/10, validation rmse 2.7348, best validation rmse 2.7348, validation L1loss 0.8207, validation r2 0.4271, validation mae 1.7709, validation spearmanr -0.4454, validation kendalltau -0.2964\n",
      "epoch 3/10, batch 1/1, loss 0.9710\n",
      "EarlyStopping counter: 1 out of 30\n",
      "epoch 3/10, validation rmse 3.9664, best validation rmse 2.7348, validation L1loss 1.2632, validation r2 0.4397, validation mae 2.5244, validation spearmanr -0.4059, validation kendalltau -0.2802\n",
      "epoch 4/10, batch 1/1, loss 0.8887\n",
      "EarlyStopping counter: 2 out of 30\n",
      "epoch 4/10, validation rmse 4.4405, best validation rmse 2.7348, validation L1loss 1.4412, validation r2 0.3629, validation mae 2.8306, validation spearmanr -0.3624, validation kendalltau -0.2458\n",
      "epoch 5/10, batch 1/1, loss 0.8210\n",
      "EarlyStopping counter: 3 out of 30\n",
      "epoch 5/10, validation rmse 3.4634, best validation rmse 2.7348, validation L1loss 1.0868, validation r2 0.2845, validation mae 2.2310, validation spearmanr -0.3478, validation kendalltau -0.2438\n",
      "epoch 6/10, batch 1/1, loss 0.7842\n",
      "epoch 6/10, validation rmse 2.3371, best validation rmse 2.3371, validation L1loss 0.6715, validation r2 0.1913, validation mae 1.5230, validation spearmanr -0.3170, validation kendalltau -0.2175\n",
      "epoch 7/10, batch 1/1, loss 0.7809\n",
      "epoch 7/10, validation rmse 1.5617, best validation rmse 1.5617, validation L1loss 0.3765, validation r2 0.0202, validation mae 1.0084, validation spearmanr 0.2633, validation kendalltau 0.2074\n",
      "epoch 8/10, batch 1/1, loss 0.7471\n",
      "epoch 8/10, validation rmse 1.1599, best validation rmse 1.1599, validation L1loss 0.2229, validation r2 0.0545, validation mae 0.7086, validation spearmanr 0.4832, validation kendalltau 0.3510\n",
      "epoch 9/10, batch 1/1, loss 0.7190\n",
      "epoch 9/10, validation rmse 1.0358, best validation rmse 1.0358, validation L1loss 0.1887, validation r2 0.1632, validation mae 0.6282, validation spearmanr 0.4199, validation kendalltau 0.2863\n",
      "epoch 10/10, batch 1/1, loss 0.7379\n",
      "epoch 10/10, validation rmse 0.9649, best validation rmse 0.9649, validation L1loss 0.1770, validation r2 0.2549, validation mae 0.5782, validation spearmanr 0.4346, validation kendalltau 0.2944\n",
      "best val rmse 0.9649, best val L1loss 0.1770, best val r2 0.2549, best val mae 0.5782, best val spearmanr 0.4346, best val kendalltau 0.2944\n",
      "best val rmse 1.1952, best val L1loss 0.2859, best val r2 0.1275, best val mae 0.7292, best val spearmanr 0.4955, best val kendalltau 0.3534\n",
      "\n",
      "Best Validation Metrics:\n",
      "L1loss 0.1770\n",
      "r2 0.2549\n",
      "mae 0.5782\n",
      "spearmanr 0.4346\n",
      "kendalltau 0.2944\n",
      "\n",
      "Test Metrics:\n",
      "L1loss 0.2859\n",
      "r2 0.1275\n",
      "mae 0.7292\n",
      "spearmanr 0.4955\n",
      "kendalltau 0.3534\n"
     ]
    }
   ],
   "source": [
    "macro_supervised.main()"
   ]
  },
  {
   "cell_type": "code",
   "execution_count": 14,
   "metadata": {},
   "outputs": [
    {
     "name": "stderr",
     "output_type": "stream",
     "text": [
      "findfont: Font family ['sans-serif'] not found. Falling back to DejaVu Sans.\n",
      "findfont: Font family ['sans-serif'] not found. Falling back to DejaVu Sans.\n"
     ]
    },
    {
     "data": {
      "image/png": "[encoded data removed]",
      "text/plain": [
       "<Figure size 432x432 with 2 Axes>"
      ]
     },
     "metadata": {
      "needs_background": "light"
     },
     "output_type": "display_data"
    }
   ],
   "source": [
    "macro_supervised.parity_plot('test','./')"
   ]
  },
  {
   "cell_type": "code",
   "execution_count": 15,
   "metadata": {},
   "outputs": [
    {
     "data": {
      "image/png": "[encoded data removed]",
      "text/plain": [
       "<Figure size 432x432 with 2 Axes>"
      ]
     },
     "metadata": {
      "needs_background": "light"
     },
     "output_type": "display_data"
    }
   ],
   "source": [
    "macro_supervised.parity_plot('val','./')"
   ]
  },
  {
   "cell_type": "code",
   "execution_count": 16,
   "metadata": {},
   "outputs": [],
   "source": [
    "# macro_supervised.rocauc_plot('test', './')"
   ]
  },
  {
   "cell_type": "markdown",
   "metadata": {},
   "source": [
    "#### Attribution"
   ]
  },
  {
   "cell_type": "code",
   "execution_count": 17,
   "metadata": {},
   "outputs": [],
   "source": [
    "# random.seed(SEED)\n",
    "# input_graph = dgl_dict.graphs[0]\n",
    "\n",
    "# attribution = Attribution(\n",
    "#     model_name = MODEL, \n",
    "#     attribution_type = 'integrated_gradients')\n",
    "\n",
    "# attribution.calculate_attribution(\n",
    "#     model_instance = macro_supervised.model, \n",
    "#     input_graph = input_graph)"
   ]
  },
  {
   "cell_type": "code",
   "execution_count": 18,
   "metadata": {},
   "outputs": [],
   "source": [
    "# attribution.plot_graph(\n",
    "#     input_graph = input_graph, \n",
    "#     NX_GRAPHS = NX_GRAPHS)"
   ]
  },
  {
   "cell_type": "code",
   "execution_count": 19,
   "metadata": {},
   "outputs": [],
   "source": [
    "# attribution.plot_fp(node_idx=0)"
   ]
  },
  {
   "cell_type": "code",
   "execution_count": 20,
   "metadata": {},
   "outputs": [],
   "source": [
    "# index = 16\n",
    "# mol, bi = attribution.display_substructure(\n",
    "#     monomer = 'Xyl', \n",
    "#     MON_SMILES_PATH = MON_SMILES, \n",
    "#     RADIUS = FP_RADIUS_MON, \n",
    "#     N_BITS = FP_BITS_MON)\n",
    "# Draw.DrawMorganBit(mol, index, bi)"
   ]
  }
 ],
 "metadata": {
  "kernelspec": {
   "display_name": "GLAMOUR",
   "language": "python",
   "name": "glamour"
  },
  "language_info": {
   "codemirror_mode": {
    "name": "ipython",
    "version": 3
   },
   "file_extension": ".py",
   "mimetype": "text/x-python",
   "name": "python",
   "nbconvert_exporter": "python",
   "pygments_lexer": "ipython3",
   "version": "3.6.12"
  }
 },
 "nbformat": 4,
 "nbformat_minor": 5
}
