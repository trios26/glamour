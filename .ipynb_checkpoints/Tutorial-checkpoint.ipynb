{
 "cells": [
  {
   "cell_type": "code",
   "execution_count": 1,
   "metadata": {},
   "outputs": [],
   "source": [
    "import os\n",
    "os.environ['CUDA_VISIBLE_DEVICES'] = \"0\"\n",
    "\n",
    "import random\n",
    "from rdkit import Chem\n",
    "from rdkit.Chem import Draw\n",
    "from rdkit.Chem.Draw import IPythonConsole\n",
    "\n",
    "from utils.load_networkx import networkx_feat\n",
    "from utils.macro_dataset import MacroDataset\n",
    "from utils import macro_unsupervised as unsup\n",
    "from utils.macro_supervised import MacroSupervised\n",
    "from utils.macro_attribution import Attribution\n",
    "from utils import plot"
   ]
  },
  {
   "cell_type": "markdown",
   "metadata": {},
   "source": [
    "**Filepaths**"
   ]
  },
  {
   "cell_type": "markdown",
   "metadata": {},
   "source": [
    "MON_SMILES : .csv or .txt file of macromolecule monomers\n",
    "<br>\n",
    "BOND_SMILES : .csv or .txt file of macromolecule bonds\n",
    "\n",
    "TXT_DATA_PATH : For dataset, to be used for training\n",
    "<br>\n",
    "DF_PATH : For dataset, to be used for graph labels during training\n",
    "<br>\n",
    "MODEL_PATH : For models, to be used when training to save the model, optimizer, and configuration file\n",
    "<br>\n",
    "FIG_PATH : For plots, to be used when saving ROC-AUC or parity plot figures"
   ]
  },
  {
   "cell_type": "code",
   "execution_count": 2,
   "metadata": {},
   "outputs": [],
   "source": [
    "MON_SMILES = './tables/SMILES_glycans_monomer.txt'\n",
    "BOND_SMILES = './tables/SMILES_glycans_bond.txt'\n",
    "\n",
    "TXT_DATA_PATH = './dataset/classification/'\n",
    "DF_PATH = './tables/glycobase_immuno.txt'\n",
    "MODEL_PATH = './'\n",
    "FIG_PATH = './'"
   ]
  },
  {
   "cell_type": "markdown",
   "metadata": {},
   "source": [
    "**Variables**"
   ]
  },
  {
   "cell_type": "markdown",
   "metadata": {},
   "source": [
    "FEAT : Type of features for macromolecule monomers and bonds -- fingerprints ('fp') or one-hot encodings ('onehot') (default = 'fp')\n",
    "<br>\n",
    "FP_RADIUS_MON : Radius of topological exploration for monomer fingerprint (default = 3)\n",
    "<br>\n",
    "FP_BITS_MON : Size of fingerprint bit-vector for monomer (default = 128)\n",
    "<br>\n",
    "FP_RADIUS_BOND : Radius of topological exploration for bond fingerprint (default = 3)\n",
    "<br>\n",
    "FP_BITS_BOND : Size of fingerprint bit-vector for bond (default = 16)\n",
    "\n",
    "SEED : Random seed for shuffling dataset (default = 108)\n",
    "<br>\n",
    "TASK : Learning task (classification, regression) (default = 'classification')\n",
    "<br>\n",
    "MODEL : Model architecture for supervised learning (Weave, MPNN, Attentive FP, GCN, GAT) (default = 'Weave')\n",
    "<br>\n",
    "LABELNAME : Name of label to classify (default = 'Immunogenic')\n",
    "<br>\n",
    "SPLIT : Proportion of the dataset to use for training, validation and test (default = '0.8,0.1,0.1')\n",
    "<br>\n",
    "NORM: Normalization method for regression labels -- quantile transform ('qt') or standard scaler ('ss') (default = 'qt')\n",
    "\n",
    "NUM_EPOCHS: Maximum number of epochs allowed for training (default = 1000)\n",
    "<br>\n",
    "NUM_WORKERS: Number of processes for data loading (default: 1)\n",
    "\n",
    "SAVE_MODEL: Whether to save full model file. Model state dict will be saved automatically (default = False)\n",
    "<br>\n",
    "SAVE_OPT: Whether to save optimizer files (default = False)\n",
    "<br>\n",
    "SAVE_CONFIG: Whether to save configuration file (default = False)\n",
    "\n",
    "PLOT_TYPE: Dataset to plot ('val' for validation or 'test' for test)\n",
    "\n",
    "CUSTOM_PARAMS: Dictionary of hyperparameters for model"
   ]
  },
  {
   "cell_type": "code",
   "execution_count": 3,
   "metadata": {},
   "outputs": [],
   "source": [
    "FEAT = 'fp'\n",
    "FP_RADIUS_MON = 3\n",
    "FP_BITS_MON = 128\n",
    "FP_RADIUS_BOND = 3\n",
    "FP_BITS_BOND = 16\n",
    "\n",
    "SEED = 108\n",
    "TASK = 'classification'\n",
    "MODEL = 'AttentiveFP'\n",
    "LABELNAME = 'Immunogenic'\n",
    "SPLIT = '0.6,0.2,0.2'\n",
    "NORM = 'qt'\n",
    "\n",
    "NUM_EPOCHS = 10\n",
    "NUM_WORKERS = 1\n",
    "\n",
    "SAVE_MODEL = False\n",
    "SAVE_OPT = False\n",
    "SAVE_CONFIG = False\n",
    "\n",
    "PLOT_TYPE = 'val'\n",
    "\n",
    "CUSTOM_PARAMS = {}"
   ]
  },
  {
   "cell_type": "markdown",
   "metadata": {},
   "source": [
    "**Load featurized NetworkX graphs**"
   ]
  },
  {
   "cell_type": "code",
   "execution_count": 4,
   "metadata": {},
   "outputs": [],
   "source": [
    "NX_GRAPHS = networkx_feat(\n",
    "    TXT_DATA_PATH = TXT_DATA_PATH, \n",
    "    MON_SMILES = MON_SMILES, \n",
    "    BOND_SMILES = BOND_SMILES, \n",
    "    FEAT = FEAT, \n",
    "    FP_RADIUS_MON = FP_RADIUS_MON, \n",
    "    FP_RADIUS_BOND = FP_RADIUS_BOND, \n",
    "    FP_BITS_MON = FP_BITS_MON, \n",
    "    FP_BITS_BOND = FP_BITS_BOND\n",
    ")"
   ]
  },
  {
   "cell_type": "code",
   "execution_count": 5,
   "metadata": {},
   "outputs": [
    {
     "name": "stderr",
     "output_type": "stream",
     "text": [
      "findfont: Font family ['sans-serif'] not found. Falling back to DejaVu Sans.\n"
     ]
    },
    {
     "name": "stdout",
     "output_type": "stream",
     "text": [
      "{0: 'Rha', 1: 'Gal', 2: 'Glc', 3: 'GlcA', 4: 'GalNAc', 5: 'Gal'}\n"
     ]
    },
    {
     "data": {
      "image/png": "[encoded data removed]",
      "text/plain": [
       "<Figure size 432x288 with 1 Axes>"
      ]
     },
     "metadata": {},
     "output_type": "display_data"
    }
   ],
   "source": [
    "plot.graph(NX_GRAPHS['GBID10271'])"
   ]
  },
  {
   "cell_type": "code",
   "execution_count": 6,
   "metadata": {},
   "outputs": [
    {
     "name": "stdout",
     "output_type": "stream",
     "text": [
      "{0: 'Glc', 1: 'QuiNBut', 2: 'Glc', 3: 'GlcOAcA', 4: 'GlcNAc', 5: 'QuiNBut'}\n"
     ]
    },
    {
     "data": {
      "image/png": "[encoded data removed]",
      "text/plain": [
       "<Figure size 432x288 with 1 Axes>"
      ]
     },
     "metadata": {},
     "output_type": "display_data"
    }
   ],
   "source": [
    "plot.graph(NX_GRAPHS['GBID10330'])"
   ]
  },
  {
   "cell_type": "markdown",
   "metadata": {},
   "source": [
    "#### Alignment of 2 arbitrary graphs - Similarity Computation"
   ]
  },
  {
   "cell_type": "code",
   "execution_count": 7,
   "metadata": {},
   "outputs": [
    {
     "data": {
      "text/plain": [
       "11.468537388022012"
      ]
     },
     "execution_count": 7,
     "metadata": {},
     "output_type": "execute_result"
    }
   ],
   "source": [
    "unsup.edit_distance(NX_GRAPHS['GBID10271'], NX_GRAPHS['GBID10330'], node_attr = 'h', edge_attr = 'e', upper_bound = 100)"
   ]
  },
  {
   "cell_type": "markdown",
   "metadata": {},
   "source": [
    "#### Unsupervised Learning"
   ]
  },
  {
   "cell_type": "code",
   "execution_count": 8,
   "metadata": {},
   "outputs": [],
   "source": [
    "sim_matrix = unsup.similarity_matrix(dict_graphs = NX_GRAPHS)"
   ]
  },
  {
   "cell_type": "code",
   "execution_count": 9,
   "metadata": {},
   "outputs": [],
   "source": [
    "embeddings = unsup.dimensionality_reduction(\n",
    "    matrix = sim_matrix, \n",
    "    method = 'umap', \n",
    "    n_neighbors=3)"
   ]
  },
  {
   "cell_type": "code",
   "execution_count": 10,
   "metadata": {},
   "outputs": [
    {
     "name": "stderr",
     "output_type": "stream",
     "text": [
      "findfont: Font family ['sans-serif'] not found. Falling back to DejaVu Sans.\n",
      "findfont: Font family ['sans-serif'] not found. Falling back to DejaVu Sans.\n"
     ]
    },
    {
     "data": {
      "image/png": "[encoded data removed]",
      "text/plain": [
       "<Figure size 432x288 with 1 Axes>"
      ]
     },
     "metadata": {
      "needs_background": "light"
     },
     "output_type": "display_data"
    }
   ],
   "source": [
    "unsup.plot_embeddings(\n",
    "    embeddings = embeddings, \n",
    "    NX_GRAPHS = NX_GRAPHS, \n",
    "    DF_PATH = DF_PATH, \n",
    "    method = 'UMAP')"
   ]
  },
  {
   "cell_type": "markdown",
   "metadata": {},
   "source": [
    "**Load DGL dataset with labels and masks**"
   ]
  },
  {
   "cell_type": "code",
   "execution_count": 11,
   "metadata": {},
   "outputs": [],
   "source": [
    "dgl_dict = MacroDataset(\n",
    "    DF_PATH = DF_PATH, \n",
    "    SEED = SEED, \n",
    "    TASK = TASK, \n",
    "    LABELNAME = LABELNAME, \n",
    "    MODEL = MODEL, \n",
    "    NX_GRAPHS = NX_GRAPHS, \n",
    "    NORM = NORM)"
   ]
  },
  {
   "cell_type": "markdown",
   "metadata": {},
   "source": [
    "#### Supervised learning \n",
    "Training model and obtaining validation and test metrics"
   ]
  },
  {
   "cell_type": "code",
   "execution_count": 12,
   "metadata": {},
   "outputs": [
    {
     "name": "stdout",
     "output_type": "stream",
     "text": [
      "Directory ./ already exists.\n"
     ]
    }
   ],
   "source": [
    "random.seed(SEED)\n",
    "\n",
    "macro_supervised = MacroSupervised(\n",
    "    MacroDataset = dgl_dict, \n",
    "    MON_SMILES = MON_SMILES, \n",
    "    BOND_SMILES = BOND_SMILES, \n",
    "    FEAT = FEAT, \n",
    "    FP_BITS_MON = FP_BITS_MON, \n",
    "    FP_BITS_BOND = FP_BITS_BOND, \n",
    "    SEED = SEED, \n",
    "    MODEL = MODEL, \n",
    "    SPLIT = SPLIT, \n",
    "    NUM_EPOCHS = NUM_EPOCHS, \n",
    "    NUM_WORKERS = NUM_WORKERS, \n",
    "    CUSTOM_PARAMS = CUSTOM_PARAMS, \n",
    "    MODEL_PATH = MODEL_PATH, \n",
    "    SAVE_MODEL = SAVE_MODEL, \n",
    "    SAVE_OPT = SAVE_OPT, \n",
    "    SAVE_CONFIG = SAVE_CONFIG)"
   ]
  },
  {
   "cell_type": "code",
   "execution_count": 13,
   "metadata": {},
   "outputs": [
    {
     "name": "stdout",
     "output_type": "stream",
     "text": [
      "epoch 1/10, batch 1/1, loss 0.7165\n",
      "epoch 1/10, validation loss 0.6908, best validation loss 0.6908, validation ROC-AUC 0.3333, validation F1 0.5000, validation recall 0.5000, validation precision 0.5000, validation accuracy 0.5000\n",
      "epoch 2/10, batch 1/1, loss 0.6475\n",
      "epoch 2/10, validation loss 0.6389, best validation loss 0.6389, validation ROC-AUC 0.6667, validation F1 0.7500, validation recall 0.7500, validation precision 0.7500, validation accuracy 0.7500\n",
      "epoch 3/10, batch 1/1, loss 0.6771\n",
      "epoch 3/10, validation loss 0.6005, best validation loss 0.6005, validation ROC-AUC 1.0000, validation F1 0.7500, validation recall 0.7500, validation precision 0.7500, validation accuracy 0.7500\n",
      "epoch 4/10, batch 1/1, loss 0.6437\n",
      "epoch 4/10, validation loss 0.5774, best validation loss 0.5774, validation ROC-AUC 1.0000, validation F1 0.7500, validation recall 0.7500, validation precision 0.7500, validation accuracy 0.7500\n",
      "epoch 5/10, batch 1/1, loss 0.6549\n",
      "epoch 5/10, validation loss 0.5693, best validation loss 0.5693, validation ROC-AUC 1.0000, validation F1 0.7500, validation recall 0.7500, validation precision 0.7500, validation accuracy 0.7500\n",
      "epoch 6/10, batch 1/1, loss 0.6248\n",
      "EarlyStopping counter: 1 out of 30\n",
      "epoch 6/10, validation loss 0.5701, best validation loss 0.5693, validation ROC-AUC 0.6667, validation F1 0.7500, validation recall 0.7500, validation precision 0.7500, validation accuracy 0.7500\n",
      "epoch 7/10, batch 1/1, loss 0.6204\n",
      "EarlyStopping counter: 2 out of 30\n",
      "epoch 7/10, validation loss 0.5741, best validation loss 0.5693, validation ROC-AUC 0.6667, validation F1 0.7500, validation recall 0.7500, validation precision 0.7500, validation accuracy 0.7500\n",
      "epoch 8/10, batch 1/1, loss 0.6885\n",
      "EarlyStopping counter: 3 out of 30\n",
      "epoch 8/10, validation loss 0.5762, best validation loss 0.5693, validation ROC-AUC 0.6667, validation F1 0.7500, validation recall 0.7500, validation precision 0.7500, validation accuracy 0.7500\n",
      "epoch 9/10, batch 1/1, loss 0.5978\n",
      "EarlyStopping counter: 4 out of 30\n",
      "epoch 9/10, validation loss 0.5717, best validation loss 0.5693, validation ROC-AUC 0.6667, validation F1 0.7500, validation recall 0.7500, validation precision 0.7500, validation accuracy 0.7500\n",
      "epoch 10/10, batch 1/1, loss 0.5761\n",
      "epoch 10/10, validation loss 0.5606, best validation loss 0.5606, validation ROC-AUC 0.6667, validation F1 0.7500, validation recall 0.7500, validation precision 0.7500, validation accuracy 0.7500\n",
      "best val loss 0.5606, best val ROC-AUC 0.6667, best val F1 0.7500, best val recall 0.7500, best val precision 0.7500, best val accuracy 0.7500\n",
      "best val loss 0.5772, best val ROC-AUC 1.0000, best val F1 0.6000, best val recall 0.6000, best val precision 0.6000, best val accuracy 0.6000\n",
      "\n",
      "Best Validation Metrics:\n",
      "ROC-AUC 0.6667\n",
      "F1 0.7500\n",
      "recall 0.7500\n",
      "precision 0.7500\n",
      "accuracy 0.7500\n",
      "\n",
      "Test Metrics:\n",
      "ROC-AUC 1.0000\n",
      "F1 0.6000\n",
      "recall 0.6000\n",
      "precision 0.6000\n",
      "accuracy 0.6000\n"
     ]
    }
   ],
   "source": [
    "macro_supervised.main()"
   ]
  },
  {
   "cell_type": "code",
   "execution_count": 14,
   "metadata": {},
   "outputs": [
    {
     "name": "stderr",
     "output_type": "stream",
     "text": [
      "findfont: Font family ['sans-serif'] not found. Falling back to DejaVu Sans.\n"
     ]
    },
    {
     "data": {
      "image/png": "[encoded data removed]",
      "text/plain": [
       "<Figure size 432x288 with 1 Axes>"
      ]
     },
     "metadata": {
      "needs_background": "light"
     },
     "output_type": "display_data"
    },
    {
     "data": {
      "text/plain": [
       "<Figure size 432x288 with 0 Axes>"
      ]
     },
     "metadata": {},
     "output_type": "display_data"
    }
   ],
   "source": [
    "macro_supervised.rocauc_plot('test', './')"
   ]
  },
  {
   "cell_type": "markdown",
   "metadata": {},
   "source": [
    "#### Attribution"
   ]
  },
  {
   "cell_type": "code",
   "execution_count": 15,
   "metadata": {},
   "outputs": [],
   "source": [
    "random.seed(SEED)\n",
    "input_graph = dgl_dict.graphs[0]\n",
    "\n",
    "attribution = Attribution(\n",
    "    model_name = MODEL, \n",
    "    attribution_type = 'integrated_gradients')\n",
    "\n",
    "attribution.calculate_attribution(\n",
    "    model_instance = macro_supervised.model, \n",
    "    input_graph = input_graph)"
   ]
  },
  {
   "cell_type": "code",
   "execution_count": 16,
   "metadata": {},
   "outputs": [
    {
     "name": "stderr",
     "output_type": "stream",
     "text": [
      "findfont: Font family ['sans-serif'] not found. Falling back to DejaVu Sans.\n"
     ]
    },
    {
     "name": "stdout",
     "output_type": "stream",
     "text": [
      "{0: 'Gal', 1: 'GlcNAc', 2: 'Gal', 3: 'GlcNAc', 4: 'Gal', 5: 'GalNAc'}\n",
      "Key Monomer is GalNAc\n"
     ]
    },
    {
     "data": {
      "image/png": "[encoded data removed]",
      "text/plain": [
       "<Figure size 432x288 with 1 Axes>"
      ]
     },
     "metadata": {},
     "output_type": "display_data"
    }
   ],
   "source": [
    "attribution.plot_graph(\n",
    "    input_graph = input_graph, \n",
    "    NX_GRAPHS = NX_GRAPHS)"
   ]
  },
  {
   "cell_type": "code",
   "execution_count": 17,
   "metadata": {},
   "outputs": [
    {
     "name": "stdout",
     "output_type": "stream",
     "text": [
      "0 Gal\n",
      "Key Substructure in Gal 61\n"
     ]
    },
    {
     "ename": "ValueError",
     "evalue": "The number of FixedLocator locations (0), usually from a call to set_ticks, does not match the number of ticklabels (1).",
     "output_type": "error",
     "traceback": [
      "\u001b[0;31m---------------------------------------------------------------------------\u001b[0m",
      "\u001b[0;31mValueError\u001b[0m                                Traceback (most recent call last)",
      "\u001b[0;32m<ipython-input-17-24e865a7fbbd>\u001b[0m in \u001b[0;36m<module>\u001b[0;34m\u001b[0m\n\u001b[0;32m----> 1\u001b[0;31m \u001b[0mattribution\u001b[0m\u001b[0;34m.\u001b[0m\u001b[0mplot_fp\u001b[0m\u001b[0;34m(\u001b[0m\u001b[0mnode_idx\u001b[0m\u001b[0;34m=\u001b[0m\u001b[0;36m0\u001b[0m\u001b[0;34m)\u001b[0m\u001b[0;34m\u001b[0m\u001b[0;34m\u001b[0m\u001b[0m\n\u001b[0m",
      "\u001b[0;32m~/glamour/utils/macro_attribution.py\u001b[0m in \u001b[0;36mplot_fp\u001b[0;34m(self, node_idx)\u001b[0m\n\u001b[1;32m    196\u001b[0m         \u001b[0mplt\u001b[0m\u001b[0;34m.\u001b[0m\u001b[0mxticks\u001b[0m\u001b[0;34m(\u001b[0m\u001b[0mfontsize\u001b[0m\u001b[0;34m=\u001b[0m\u001b[0;36m15\u001b[0m\u001b[0;34m)\u001b[0m\u001b[0;34m\u001b[0m\u001b[0;34m\u001b[0m\u001b[0m\n\u001b[1;32m    197\u001b[0m         \u001b[0mplt\u001b[0m\u001b[0;34m.\u001b[0m\u001b[0myticks\u001b[0m\u001b[0;34m(\u001b[0m\u001b[0;34m[\u001b[0m\u001b[0;34m]\u001b[0m\u001b[0;34m,\u001b[0m\u001b[0mfontsize\u001b[0m\u001b[0;34m=\u001b[0m\u001b[0;36m15\u001b[0m\u001b[0;34m)\u001b[0m\u001b[0;34m\u001b[0m\u001b[0;34m\u001b[0m\u001b[0m\n\u001b[0;32m--> 198\u001b[0;31m         \u001b[0max\u001b[0m\u001b[0;34m.\u001b[0m\u001b[0mset_yticklabels\u001b[0m\u001b[0;34m(\u001b[0m\u001b[0;34m[\u001b[0m\u001b[0;34m''\u001b[0m\u001b[0;34m]\u001b[0m\u001b[0;34m)\u001b[0m\u001b[0;34m\u001b[0m\u001b[0;34m\u001b[0m\u001b[0m\n\u001b[0m\u001b[1;32m    199\u001b[0m         \u001b[0mplt\u001b[0m\u001b[0;34m.\u001b[0m\u001b[0mxticks\u001b[0m\u001b[0;34m(\u001b[0m\u001b[0mfontsize\u001b[0m\u001b[0;34m=\u001b[0m\u001b[0;36m20\u001b[0m\u001b[0;34m)\u001b[0m\u001b[0;34m\u001b[0m\u001b[0;34m\u001b[0m\u001b[0m\n\u001b[1;32m    200\u001b[0m         \u001b[0mcbar\u001b[0m \u001b[0;34m=\u001b[0m \u001b[0max\u001b[0m\u001b[0;34m.\u001b[0m\u001b[0mfigure\u001b[0m\u001b[0;34m.\u001b[0m\u001b[0mcolorbar\u001b[0m\u001b[0;34m(\u001b[0m\u001b[0mim\u001b[0m\u001b[0;34m,\u001b[0m \u001b[0max\u001b[0m\u001b[0;34m=\u001b[0m\u001b[0max\u001b[0m\u001b[0;34m)\u001b[0m\u001b[0;34m\u001b[0m\u001b[0;34m\u001b[0m\u001b[0m\n",
      "\u001b[0;32m~/miniconda3/envs/GLAMOUR/lib/python3.6/site-packages/matplotlib/axes/_base.py\u001b[0m in \u001b[0;36mwrapper\u001b[0;34m(self, *args, **kwargs)\u001b[0m\n\u001b[1;32m     61\u001b[0m \u001b[0;34m\u001b[0m\u001b[0m\n\u001b[1;32m     62\u001b[0m         \u001b[0;32mdef\u001b[0m \u001b[0mwrapper\u001b[0m\u001b[0;34m(\u001b[0m\u001b[0mself\u001b[0m\u001b[0;34m,\u001b[0m \u001b[0;34m*\u001b[0m\u001b[0margs\u001b[0m\u001b[0;34m,\u001b[0m \u001b[0;34m**\u001b[0m\u001b[0mkwargs\u001b[0m\u001b[0;34m)\u001b[0m\u001b[0;34m:\u001b[0m\u001b[0;34m\u001b[0m\u001b[0;34m\u001b[0m\u001b[0m\n\u001b[0;32m---> 63\u001b[0;31m             \u001b[0;32mreturn\u001b[0m \u001b[0mget_method\u001b[0m\u001b[0;34m(\u001b[0m\u001b[0mself\u001b[0m\u001b[0;34m)\u001b[0m\u001b[0;34m(\u001b[0m\u001b[0;34m*\u001b[0m\u001b[0margs\u001b[0m\u001b[0;34m,\u001b[0m \u001b[0;34m**\u001b[0m\u001b[0mkwargs\u001b[0m\u001b[0;34m)\u001b[0m\u001b[0;34m\u001b[0m\u001b[0;34m\u001b[0m\u001b[0m\n\u001b[0m\u001b[1;32m     64\u001b[0m \u001b[0;34m\u001b[0m\u001b[0m\n\u001b[1;32m     65\u001b[0m         \u001b[0mwrapper\u001b[0m\u001b[0;34m.\u001b[0m\u001b[0m__module__\u001b[0m \u001b[0;34m=\u001b[0m \u001b[0mowner\u001b[0m\u001b[0;34m.\u001b[0m\u001b[0m__module__\u001b[0m\u001b[0;34m\u001b[0m\u001b[0;34m\u001b[0m\u001b[0m\n",
      "\u001b[0;32m~/miniconda3/envs/GLAMOUR/lib/python3.6/site-packages/matplotlib/cbook/deprecation.py\u001b[0m in \u001b[0;36mwrapper\u001b[0;34m(*args, **kwargs)\u001b[0m\n\u001b[1;32m    449\u001b[0m                 \u001b[0;34m\"parameter will become keyword-only %(removal)s.\"\u001b[0m\u001b[0;34m,\u001b[0m\u001b[0;34m\u001b[0m\u001b[0;34m\u001b[0m\u001b[0m\n\u001b[1;32m    450\u001b[0m                 name=name, obj_type=f\"parameter of {func.__name__}()\")\n\u001b[0;32m--> 451\u001b[0;31m         \u001b[0;32mreturn\u001b[0m \u001b[0mfunc\u001b[0m\u001b[0;34m(\u001b[0m\u001b[0;34m*\u001b[0m\u001b[0margs\u001b[0m\u001b[0;34m,\u001b[0m \u001b[0;34m**\u001b[0m\u001b[0mkwargs\u001b[0m\u001b[0;34m)\u001b[0m\u001b[0;34m\u001b[0m\u001b[0;34m\u001b[0m\u001b[0m\n\u001b[0m\u001b[1;32m    452\u001b[0m \u001b[0;34m\u001b[0m\u001b[0m\n\u001b[1;32m    453\u001b[0m     \u001b[0;32mreturn\u001b[0m \u001b[0mwrapper\u001b[0m\u001b[0;34m\u001b[0m\u001b[0;34m\u001b[0m\u001b[0m\n",
      "\u001b[0;32m~/miniconda3/envs/GLAMOUR/lib/python3.6/site-packages/matplotlib/axis.py\u001b[0m in \u001b[0;36m_set_ticklabels\u001b[0;34m(self, labels, fontdict, minor, **kwargs)\u001b[0m\n\u001b[1;32m   1794\u001b[0m         \u001b[0;32mif\u001b[0m \u001b[0mfontdict\u001b[0m \u001b[0;32mis\u001b[0m \u001b[0;32mnot\u001b[0m \u001b[0;32mNone\u001b[0m\u001b[0;34m:\u001b[0m\u001b[0;34m\u001b[0m\u001b[0;34m\u001b[0m\u001b[0m\n\u001b[1;32m   1795\u001b[0m             \u001b[0mkwargs\u001b[0m\u001b[0;34m.\u001b[0m\u001b[0mupdate\u001b[0m\u001b[0;34m(\u001b[0m\u001b[0mfontdict\u001b[0m\u001b[0;34m)\u001b[0m\u001b[0;34m\u001b[0m\u001b[0;34m\u001b[0m\u001b[0m\n\u001b[0;32m-> 1796\u001b[0;31m         \u001b[0;32mreturn\u001b[0m \u001b[0mself\u001b[0m\u001b[0;34m.\u001b[0m\u001b[0mset_ticklabels\u001b[0m\u001b[0;34m(\u001b[0m\u001b[0mlabels\u001b[0m\u001b[0;34m,\u001b[0m \u001b[0mminor\u001b[0m\u001b[0;34m=\u001b[0m\u001b[0mminor\u001b[0m\u001b[0;34m,\u001b[0m \u001b[0;34m**\u001b[0m\u001b[0mkwargs\u001b[0m\u001b[0;34m)\u001b[0m\u001b[0;34m\u001b[0m\u001b[0;34m\u001b[0m\u001b[0m\n\u001b[0m\u001b[1;32m   1797\u001b[0m \u001b[0;34m\u001b[0m\u001b[0m\n\u001b[1;32m   1798\u001b[0m     \u001b[0;34m@\u001b[0m\u001b[0mcbook\u001b[0m\u001b[0;34m.\u001b[0m\u001b[0m_make_keyword_only\u001b[0m\u001b[0;34m(\u001b[0m\u001b[0;34m\"3.2\"\u001b[0m\u001b[0;34m,\u001b[0m \u001b[0;34m\"minor\"\u001b[0m\u001b[0;34m)\u001b[0m\u001b[0;34m\u001b[0m\u001b[0;34m\u001b[0m\u001b[0m\n",
      "\u001b[0;32m~/miniconda3/envs/GLAMOUR/lib/python3.6/site-packages/matplotlib/axis.py\u001b[0m in \u001b[0;36mset_ticklabels\u001b[0;34m(self, ticklabels, minor, **kwargs)\u001b[0m\n\u001b[1;32m   1716\u001b[0m             \u001b[0;32mif\u001b[0m \u001b[0mlen\u001b[0m\u001b[0;34m(\u001b[0m\u001b[0mlocator\u001b[0m\u001b[0;34m.\u001b[0m\u001b[0mlocs\u001b[0m\u001b[0;34m)\u001b[0m \u001b[0;34m!=\u001b[0m \u001b[0mlen\u001b[0m\u001b[0;34m(\u001b[0m\u001b[0mticklabels\u001b[0m\u001b[0;34m)\u001b[0m \u001b[0;32mand\u001b[0m \u001b[0mlen\u001b[0m\u001b[0;34m(\u001b[0m\u001b[0mticklabels\u001b[0m\u001b[0;34m)\u001b[0m \u001b[0;34m!=\u001b[0m \u001b[0;36m0\u001b[0m\u001b[0;34m:\u001b[0m\u001b[0;34m\u001b[0m\u001b[0;34m\u001b[0m\u001b[0m\n\u001b[1;32m   1717\u001b[0m                 raise ValueError(\n\u001b[0;32m-> 1718\u001b[0;31m                     \u001b[0;34m\"The number of FixedLocator locations\"\u001b[0m\u001b[0;34m\u001b[0m\u001b[0;34m\u001b[0m\u001b[0m\n\u001b[0m\u001b[1;32m   1719\u001b[0m                     \u001b[0;34mf\" ({len(locator.locs)}), usually from a call to\"\u001b[0m\u001b[0;34m\u001b[0m\u001b[0;34m\u001b[0m\u001b[0m\n\u001b[1;32m   1720\u001b[0m                     \u001b[0;34m\" set_ticks, does not match\"\u001b[0m\u001b[0;34m\u001b[0m\u001b[0;34m\u001b[0m\u001b[0m\n",
      "\u001b[0;31mValueError\u001b[0m: The number of FixedLocator locations (0), usually from a call to set_ticks, does not match the number of ticklabels (1)."
     ]
    },
    {
     "name": "stderr",
     "output_type": "stream",
     "text": [
      "findfont: Font family ['sans-serif'] not found. Falling back to DejaVu Sans.\n"
     ]
    },
    {
     "data": {
      "image/png": "[encoded data removed]",
      "text/plain": [
       "<Figure size 432x288 with 1 Axes>"
      ]
     },
     "metadata": {
      "needs_background": "light"
     },
     "output_type": "display_data"
    }
   ],
   "source": [
    "attribution.plot_fp(node_idx=0)"
   ]
  },
  {
   "cell_type": "code",
   "execution_count": null,
   "metadata": {},
   "outputs": [],
   "source": [
    "index = 16\n",
    "mol, bi = attribution.display_substructure(\n",
    "    monomer = 'Xyl', \n",
    "    MON_SMILES_PATH = MON_SMILES, \n",
    "    RADIUS = FP_RADIUS_MON, \n",
    "    N_BITS = FP_BITS_MON)\n",
    "Draw.DrawMorganBit(mol, index, bi)"
   ]
  }
 ],
 "metadata": {
  "kernelspec": {
   "display_name": "GLAMOUR",
   "language": "python",
   "name": "glamour"
  },
  "language_info": {
   "codemirror_mode": {
    "name": "ipython",
    "version": 3
   },
   "file_extension": ".py",
   "mimetype": "text/x-python",
   "name": "python",
   "nbconvert_exporter": "python",
   "pygments_lexer": "ipython3",
   "version": "3.6.12"
  }
 },
 "nbformat": 4,
 "nbformat_minor": 5
}
